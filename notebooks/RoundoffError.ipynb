{
 "cells": [
  {
   "cell_type": "markdown",
   "metadata": {
    "run_control": {
     "frozen": false,
     "read_only": false
    }
   },
   "source": [
    "# Load one of the problems\n",
    "\n",
    "Code used load one of the problems:"
   ]
  },
  {
   "cell_type": "code",
   "execution_count": 1,
   "metadata": {
    "ExecuteTime": {
     "end_time": "2017-06-08T21:32:26.869732",
     "start_time": "2017-06-08T21:32:25.816652Z"
    },
    "collapsed": true,
    "run_control": {
     "frozen": false,
     "read_only": false
    }
   },
   "outputs": [],
   "source": [
    "%matplotlib inline\n",
    "import pycutestmgr as cute\n",
    "import time\n",
    "import numpy as np\n",
    "import matplotlib.pyplot as plt\n",
    "from scipy.sparse import csc_matrix, linalg, csr_matrix\n",
    "from ipsolver import eqp_kktfact, projections, projected_cg, orthogonality\n",
    "from numpy.testing import (TestCase, assert_array_almost_equal,\n",
    "                           assert_array_equal, assert_array_less,\n",
    "                           assert_raises, assert_equal, assert_,\n",
    "                           run_module_suite, assert_allclose, assert_warns,\n",
    "                           dec)\n",
    "import cProfile\n",
    "cute.clearCache('HS71')\n",
    "name = \"CVXQP3_M\"\n",
    "\n",
    "cute.prepareProblem(name)\n",
    "problem=cute.importProblem(name)\n",
    "info = problem.getinfo()\n",
    "x0 = info[\"x\"]\n",
    "G = problem.ihess(x0)\n",
    "f, c = problem.obj(x0, True) \n",
    "b, A = problem.cons(x0, True)\n",
    "\n",
    "G = csc_matrix(G)\n",
    "A = csc_matrix(A)\n"
   ]
  },
  {
   "cell_type": "markdown",
   "metadata": {
    "run_control": {
     "frozen": false,
     "read_only": false
    }
   },
   "source": [
    "# Check if the Projection Matrix is ok\n",
    "\n",
    "Check if the projection matrix Z, Y, LS perform the expected operations"
   ]
  },
  {
   "cell_type": "code",
   "execution_count": 2,
   "metadata": {
    "ExecuteTime": {
     "end_time": "2017-06-07T20:10:27.481906",
     "start_time": "2017-06-07T20:09:23.803984Z"
    },
    "run_control": {
     "frozen": false,
     "read_only": false
    }
   },
   "outputs": [
    {
     "name": "stdout",
     "output_type": "stream",
     "text": [
      "1.40775337657e-15\n",
      "3.21726108633e-08\n",
      "3.06882377823e-10\n",
      "0\n"
     ]
    }
   ],
   "source": [
    "A_dense = A.toarray()\n",
    "\n",
    "# Get Projections\n",
    "Z, LS, Y = projections(A, method='NormalEquation')\n",
    "\n",
    "z = np.random.normal(size=np.shape(x0))\n",
    "\n",
    "# Test if x is in the null_space\n",
    "x = Z.matvec(z)\n",
    "print orthogonality(A, x)\n",
    "\n",
    "# Test if x is the least square solution\n",
    "x = LS.matvec(z)\n",
    "x2 = np.linalg.lstsq(A_dense.T, z)[0]\n",
    "\n",
    "print np.linalg.norm(x - x2)\n",
    "\n",
    "z = np.random.normal(size=np.shape(b))\n",
    "\n",
    "# Test if x is in the null_space\n",
    "x = Y.matvec(z)\n",
    "print np.linalg.norm(A.dot(x)-z)\n",
    "\n",
    "# Test if x is in the row space of A\n",
    "A_ext = np.vstack((A_dense, x))\n",
    "print np.linalg.matrix_rank(A_dense)-np.linalg.matrix_rank(A_ext)"
   ]
  },
  {
   "cell_type": "code",
   "execution_count": 3,
   "metadata": {
    "ExecuteTime": {
     "end_time": "2017-06-08T21:32:30.786483",
     "start_time": "2017-06-08T21:32:30.779084Z"
    },
    "collapsed": true,
    "run_control": {
     "frozen": false,
     "read_only": false
    }
   },
   "outputs": [],
   "source": [
    "Z, _, Y = projections(A, method='AugmentedSystem')"
   ]
  },
  {
   "cell_type": "code",
   "execution_count": 4,
   "metadata": {
    "ExecuteTime": {
     "end_time": "2017-06-08T21:32:54.339939",
     "start_time": "2017-06-08T21:32:54.290196Z"
    },
    "run_control": {
     "frozen": false,
     "read_only": false
    }
   },
   "outputs": [],
   "source": [
    "x_as,  info_as = projected_cg(G, c, Z, Y, b, tol=1e-20, return_all=True)"
   ]
  },
  {
   "cell_type": "code",
   "execution_count": 5,
   "metadata": {
    "ExecuteTime": {
     "end_time": "2017-06-08T21:32:54.426917",
     "start_time": "2017-06-08T21:32:54.418466Z"
    },
    "collapsed": true,
    "run_control": {
     "frozen": false,
     "read_only": false
    }
   },
   "outputs": [],
   "source": [
    "niter = len(info_as[\"allvecs\"])\n",
    "constr_violation = np.zeros(len(info_as[\"allvecs\"]))\n",
    "optimality = np.zeros(len(info_as[\"allvecs\"]))\n",
    "k = 0\n",
    "for xa in info_as[\"allvecs\"]:\n",
    "    optimality[k] = 1.0/2.0*G.dot(xa).dot(xa)+c.dot(xa) + f\n",
    "    constr_violation[k] = np.linalg.norm(A*xa-b)\n",
    "    k += 1"
   ]
  },
  {
   "cell_type": "code",
   "execution_count": 6,
   "metadata": {
    "ExecuteTime": {
     "end_time": "2017-06-08T21:32:55.493056",
     "start_time": "2017-06-08T21:32:55.107432Z"
    },
    "run_control": {
     "frozen": false,
     "read_only": false
    }
   },
   "outputs": [
    {
     "data": {
      "image/png": "[encoded data removed]",
      "text/plain": [
       "<matplotlib.figure.Figure at 0x7f8ddfb04710>"
      ]
     },
     "metadata": {},
     "output_type": "display_data"
    }
   ],
   "source": [
    "plt.figure(figsize=(10, 10))\n",
    "plt.semilogy(range(niter), constr_violation, color='black', lw=3)\n",
    "plt.xlabel(\"iteration\", fontsize=30)\n",
    "plt.ylabel(r\"$\\||A x-b\\||$\", fontsize=30)\n",
    "plt.tick_params(axis='both', which='both', labelsize=20)\n",
    "plt.tight_layout()\n",
    "# plt.savefig(\"error_per_iteration_corrected.png\")"
   ]
  },
  {
   "cell_type": "code",
   "execution_count": 7,
   "metadata": {
    "ExecuteTime": {
     "end_time": "2017-06-07T20:10:30.105690",
     "start_time": "2017-06-07T20:10:29.839360Z"
    },
    "run_control": {
     "frozen": false,
     "read_only": false
    }
   },
   "outputs": [
    {
     "data": {
      "image/png": "[encoded data removed]",
      "text/plain": [
       "<matplotlib.figure.Figure at 0x7f8e105ce150>"
      ]
     },
     "metadata": {},
     "output_type": "display_data"
    }
   ],
   "source": [
    "plt.figure(figsize=(10, 10))\n",
    "plt.plot(range(niter), optimality, color='black', lw=3)\n",
    "plt.xlabel(\"iteration\", fontsize=30)\n",
    "plt.ylabel(r\"$\\||A x-b\\||$\", fontsize=30)\n",
    "plt.tick_params(axis='both', which='major', labelsize=20)\n",
    "plt.tight_layout()\n",
    "#plt.savefig(\"error_per_iteration_corrected.png\")"
   ]
  },
  {
   "cell_type": "code",
   "execution_count": 8,
   "metadata": {
    "ExecuteTime": {
     "end_time": "2017-06-07T20:11:35.972540",
     "start_time": "2017-06-07T20:10:30.107540Z"
    },
    "collapsed": true,
    "run_control": {
     "frozen": false,
     "read_only": false
    }
   },
   "outputs": [],
   "source": [
    "x, lambd = eqp_kktfact(G, c, A, b)"
   ]
  },
  {
   "cell_type": "code",
   "execution_count": 9,
   "metadata": {
    "ExecuteTime": {
     "end_time": "2017-06-07T20:11:35.980115",
     "start_time": "2017-06-07T20:11:35.974674Z"
    },
    "run_control": {
     "frozen": false,
     "read_only": false
    }
   },
   "outputs": [
    {
     "data": {
      "text/plain": [
       "array([ 1175922.13898101])"
      ]
     },
     "execution_count": 9,
     "metadata": {},
     "output_type": "execute_result"
    }
   ],
   "source": [
    "optimality = 1.0/2.0*G.dot(x).dot(x)+c.dot(x) + f\n",
    "\n",
    "optimality"
   ]
  },
  {
   "cell_type": "code",
   "execution_count": 10,
   "metadata": {
    "ExecuteTime": {
     "end_time": "2017-06-07T20:11:36.082754",
     "start_time": "2017-06-07T20:11:35.981841Z"
    },
    "run_control": {
     "frozen": false,
     "read_only": false
    }
   },
   "outputs": [
    {
     "data": {
      "text/plain": [
       "40.109770022832258"
      ]
     },
     "execution_count": 10,
     "metadata": {},
     "output_type": "execute_result"
    }
   ],
   "source": [
    "np.linalg.norm(x)"
   ]
  },
  {
   "cell_type": "code",
   "execution_count": 11,
   "metadata": {
    "ExecuteTime": {
     "end_time": "2017-06-07T20:11:36.164694",
     "start_time": "2017-06-07T20:11:36.084410Z"
    },
    "run_control": {
     "frozen": false,
     "read_only": false
    }
   },
   "outputs": [
    {
     "data": {
      "text/plain": [
       "array([ 1175922.13897974])"
      ]
     },
     "execution_count": 11,
     "metadata": {},
     "output_type": "execute_result"
    }
   ],
   "source": [
    "optimality = 1.0/2.0*G.dot(x_as).dot(x_as)+c.dot(x_as) + f\n",
    "\n",
    "optimality"
   ]
  },
  {
   "cell_type": "code",
   "execution_count": null,
   "metadata": {
    "collapsed": true,
    "run_control": {
     "frozen": false,
     "read_only": false
    }
   },
   "outputs": [],
   "source": []
  }
 ],
 "metadata": {
  "hide_input": false,
  "kernelspec": {
   "display_name": "cutest",
   "language": "python",
   "name": "cutest"
  },
  "language_info": {
   "codemirror_mode": {
    "name": "ipython",
    "version": 2
   },
   "file_extension": ".py",
   "mimetype": "text/x-python",
   "name": "python",
   "nbconvert_exporter": "python",
   "pygments_lexer": "ipython2",
   "version": "2.7.13"
  },
  "latex_envs": {
   "bibliofile": "biblio.bib",
   "cite_by": "apalike",
   "current_citInitial": 1,
   "eqLabelWithNumbers": true,
   "eqNumInitial": 0
  },
  "toc": {
   "nav_menu": {
    "height": "48px",
    "width": "252px"
   },
   "navigate_menu": true,
   "number_sections": true,
   "sideBar": true,
   "threshold": 4,
   "toc_cell": false,
   "toc_section_display": "block",
   "toc_window_display": true
  },
  "widgets": {
   "state": {},
   "version": "1.1.2"
  }
 },
 "nbformat": 4,
 "nbformat_minor": 1
}
