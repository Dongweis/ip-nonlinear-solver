{
 "cells": [
  {
   "cell_type": "code",
   "execution_count": 1,
   "metadata": {
    "ExecuteTime": {
     "end_time": "2017-06-29T21:38:27.937399",
     "start_time": "2017-06-29T21:38:27.085083Z"
    },
    "run_control": {
     "frozen": false,
     "read_only": false
    }
   },
   "outputs": [],
   "source": [
    "import pycutestmgr as cute\n",
    "import time\n",
    "import pdb \n",
    "import numpy as np\n",
    "from numpy.linalg import norm\n",
    "import matplotlib.pyplot as plt\n",
    "from scipy.sparse import csc_matrix, issparse\n",
    "from ipsolver import equality_constrained_sqp, projections\n",
    "%matplotlib inline\n",
    "cute.clearCache('HS71')"
   ]
  },
  {
   "cell_type": "markdown",
   "metadata": {
    "run_control": {
     "frozen": false,
     "read_only": false
    }
   },
   "source": [
    "# Problems from ``CUTEst`` Problem Collection\n",
    "## Import Problem"
   ]
  },
  {
   "cell_type": "code",
   "execution_count": 2,
   "metadata": {
    "ExecuteTime": {
     "end_time": "2017-06-29T21:38:31.986320",
     "start_time": "2017-06-29T21:38:28.948844Z"
    },
    "run_control": {
     "frozen": false,
     "read_only": false
    }
   },
   "outputs": [
    {
     "name": "stdout",
     "output_type": "stream",
     "text": [
      "(600, 200)\n"
     ]
    }
   ],
   "source": [
    "problems = [(\"HAGER2\", {\"N\": 5000}),  # 1\n",
    "            (\"HAGER3\", {\"N\": 5000}),  # 2\n",
    "            (\"ELEC\", {}),  # 3\n",
    "            (\"CHANNEL\", {}),  # 4\n",
    "            (\"ORTHREGA\", {'LEVELS': 5}),  # 5\n",
    "            (\"ORTHREGC\", {'NPTS': 500}),  # 6\n",
    "            (\"ORTHREGD\", {'NPTS': 2500}),  # 7 - FAILS TO CONVERGE FOR DEFAULT PARAMETERS!!    \n",
    "                                           # BUT CONVERGES FOR: *initial_trust_radius=100,\n",
    "                                           #                    *initial_penalty=1000,\n",
    "            (\"ORTHREGD\", {'NPTS': 500}), # 8\n",
    "            (\"ORTHREGD\", {'NPTS': 5000}), # 9 - FAILS TO CONVERGE FOR DEFAULT PARAMETERS!! \n",
    "                                          # BUT CONVERGES FOR: *initial_trust_radius=100,\n",
    "                                          #                    *initial_penalty=1000,\n",
    "            (\"DTOC1ND\", {'N': 500, 'NX':2, 'NY':4}), # 10 -FAILS TO CONVERGE FOR DEFAULT PARAMETERS!!\n",
    "                                                     # BUT CONVERGES FOR: *initial_trust_radius=1000,\n",
    "                                                     #                    *initial_penalty=1,\n",
    "            (\"DTOC2\", {'N': 500, 'NX':2, 'NY':4}), # 11\n",
    "            (\"DTOC3\", {}), # 12\n",
    "            (\"DTOC4\", {'N': 5000}),  # 13\n",
    "            (\"DTOC5\", {'N': 5000}),  # 14\n",
    "            (\"DTOC6\", {'N': 1001}),  # 15\n",
    "            (\"EIGENA2\", {'N': 50}),  # 16\n",
    "            (\"EIGENA2\", {'N': 10}),  # 17\n",
    "            (\"EIGENC2\", {'M': 25}),  # 18\n",
    "            (\"EIGENC2\", {'M': 2}),  # 19\n",
    "            (\"EIGENC2\", {'M': 10}),  # 20\n",
    "            (\"ARTIF\", {'N': 1000}),  # 21\n",
    "            (\"BRATU3D\", {'P':17})]  # 22\n",
    "\n",
    "number = 3\n",
    "name = problems[number-1][0]\n",
    "cute.clearCache(name)\n",
    "cute.prepareProblem(name, sifParams=problems[number-1][1])\n",
    "problem = cute.importProblem(name)\n",
    "info = problem.getinfo()\n",
    "x0 = info[\"x\"]\n",
    "print(info[\"n\"], info[\"m\"])\n",
    "v0 = info[\"v\"]\n",
    "\n",
    "\n",
    "def hess(x, v):\n",
    "    return csc_matrix(problem.sphess(x, v))\n",
    "\n",
    "\n",
    "def fun(x):\n",
    "    return problem.obj(x)[0]\n",
    "\n",
    "\n",
    "def grad(x):\n",
    "    _, g1 = problem.obj(x, True)\n",
    "    return g1\n",
    "\n",
    "\n",
    "def constr(x):\n",
    "    return problem.cons(x)\n",
    "\n",
    "\n",
    "def jac(x):\n",
    "    _, A1 = problem.cons(x, True)\n",
    "    return csc_matrix(A1)"
   ]
  },
  {
   "cell_type": "markdown",
   "metadata": {
    "run_control": {
     "frozen": false,
     "read_only": false
    }
   },
   "source": [
    "## Optimize Problem"
   ]
  },
  {
   "cell_type": "code",
   "execution_count": 3,
   "metadata": {
    "ExecuteTime": {
     "end_time": "2017-06-29T21:38:43.450823",
     "start_time": "2017-06-29T21:38:37.188854Z"
    },
    "collapsed": true,
    "run_control": {
     "frozen": false,
     "read_only": false
    }
   },
   "outputs": [],
   "source": [
    "start_time = time.time()\n",
    "x, info = equality_constrained_sqp(fun, grad, hess, constr, jac, x0, v0, \n",
    "                                   initial_trust_radius=1,\n",
    "                                   initial_penalty=1,\n",
    "                                   return_all=True)\n",
    "total_time = time.time() - start_time"
   ]
  },
  {
   "cell_type": "markdown",
   "metadata": {
    "run_control": {
     "frozen": false,
     "read_only": false
    }
   },
   "source": [
    "## Display Results"
   ]
  },
  {
   "cell_type": "code",
   "execution_count": 4,
   "metadata": {
    "ExecuteTime": {
     "end_time": "2017-06-29T21:38:43.462756",
     "start_time": "2017-06-29T21:38:43.453761Z"
    },
    "run_control": {
     "frozen": false,
     "read_only": false
    }
   },
   "outputs": [
    {
     "name": "stdout",
     "output_type": "stream",
     "text": [
      "f = 18439.1273014\n",
      "optimality = 1.49428018013e-05\n",
      "c violation = 1.20901831387e-14\n",
      "niter = 117\n",
      "total time = 5.76803302765\n"
     ]
    }
   ],
   "source": [
    "print('f = '+ str(info[\"fun\"]))\n",
    "print('optimality = ' + str(info[\"opt\"]))\n",
    "print('c violation = ' + str(info[\"constr_violation\"]))\n",
    "print('niter = ' + str(info[\"niter\"]))\n",
    "print('total time = ' + str(total_time))\n"
   ]
  },
  {
   "cell_type": "code",
   "execution_count": 5,
   "metadata": {
    "ExecuteTime": {
     "end_time": "2017-06-29T21:38:48.731008",
     "start_time": "2017-06-29T21:38:48.097264Z"
    },
    "collapsed": true,
    "run_control": {
     "frozen": false,
     "read_only": false
    }
   },
   "outputs": [],
   "source": [
    "n = len(info[\"allvecs\"])\n",
    "func = np.zeros(n)\n",
    "constr_violation = np.zeros(n)\n",
    "optimality = np.zeros(n)\n",
    "for k in range(n):\n",
    "    xk = info[\"allvecs\"][k]\n",
    "    vk = info[\"allmult\"][k]\n",
    "    gk = grad(xk)\n",
    "    ck = constr(xk)\n",
    "    Ak = jac(xk)\n",
    "    func[k] = fun(xk)\n",
    "    optimality[k] = norm(gk + Ak.T.dot(vk))\n",
    "    constr_violation[k] = np.linalg.norm(ck)"
   ]
  },
  {
   "cell_type": "code",
   "execution_count": 6,
   "metadata": {
    "ExecuteTime": {
     "end_time": "2017-06-29T21:38:50.311956",
     "start_time": "2017-06-29T21:38:48.734791Z"
    },
    "run_control": {
     "frozen": false,
     "read_only": false
    }
   },
   "outputs": [
    {
     "data": {
      "image/png": "[encoded data removed]",
      "text/plain": [
       "<matplotlib.figure.Figure at 0x7f331a84fd90>"
      ]
     },
     "metadata": {},
     "output_type": "display_data"
    }
   ],
   "source": [
    "plt.figure(figsize=(10, 10))\n",
    "plt.semilogy(range(n), optimality, color='black', lw=3)\n",
    "plt.xlabel(\"iteration\", fontsize=30)\n",
    "plt.ylabel(r\"$\\||\\nabla \\mathcal{L}(x, \\lambda)\\||$\", fontsize=30)\n",
    "plt.tick_params(axis='both', which='both', labelsize=20)\n",
    "plt.tight_layout()\n",
    "plt.savefig(\"optimality_elec_soc.png\")"
   ]
  },
  {
   "cell_type": "code",
   "execution_count": null,
   "metadata": {
    "collapsed": true,
    "run_control": {
     "frozen": false,
     "read_only": false
    }
   },
   "outputs": [],
   "source": []
  }
 ],
 "metadata": {
  "hide_input": false,
  "kernelspec": {
   "display_name": "cutest",
   "language": "python",
   "name": "cutest"
  },
  "language_info": {
   "codemirror_mode": {
    "name": "ipython",
    "version": 2
   },
   "file_extension": ".py",
   "mimetype": "text/x-python",
   "name": "python",
   "nbconvert_exporter": "python",
   "pygments_lexer": "ipython2",
   "version": "2.7.13"
  },
  "latex_envs": {
   "bibliofile": "biblio.bib",
   "cite_by": "apalike",
   "current_citInitial": 1,
   "eqLabelWithNumbers": true,
   "eqNumInitial": 0
  },
  "toc": {
   "nav_menu": {
    "height": "30px",
    "width": "252px"
   },
   "navigate_menu": true,
   "number_sections": true,
   "sideBar": true,
   "threshold": 4,
   "toc_cell": false,
   "toc_position": {
    "height": "913px",
    "left": "0px",
    "right": "auto",
    "top": "106px",
    "width": "212px"
   },
   "toc_section_display": "block",
   "toc_window_display": true
  },
  "widgets": {
   "state": {},
   "version": "1.1.2"
  }
 },
 "nbformat": 4,
 "nbformat_minor": 2
}
