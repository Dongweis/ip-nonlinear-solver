{
 "cells": [
  {
   "cell_type": "code",
   "execution_count": 1,
   "metadata": {
    "ExecuteTime": {
     "end_time": "2017-06-28T13:40:42.638029",
     "start_time": "2017-06-28T13:40:42.049461Z"
    },
    "collapsed": true,
    "run_control": {
     "frozen": false,
     "read_only": false
    }
   },
   "outputs": [],
   "source": [
    "import pycutestmgr as cute\n",
    "import time\n",
    "import pdb \n",
    "import numpy as np\n",
    "from numpy.linalg import norm\n",
    "import matplotlib.pyplot as plt\n",
    "from scipy.sparse import csc_matrix, issparse\n",
    "from ipsolver import equality_constrained_sqp, projections\n",
    "%matplotlib inline\n",
    "cute.clearCache('HS71')"
   ]
  },
  {
   "cell_type": "markdown",
   "metadata": {
    "run_control": {
     "frozen": false,
     "read_only": false
    }
   },
   "source": [
    "# Problems from ``CUTEst`` Problem Collection\n",
    "## Import Problem"
   ]
  },
  {
   "cell_type": "code",
   "execution_count": 2,
   "metadata": {
    "ExecuteTime": {
     "end_time": "2017-06-28T13:40:44.446343",
     "start_time": "2017-06-28T13:40:42.642161Z"
    },
    "collapsed": false,
    "run_control": {
     "frozen": false,
     "read_only": false
    }
   },
   "outputs": [
    {
     "name": "stdout",
     "output_type": "stream",
     "text": [
      "(5003, 2500)\n"
     ]
    }
   ],
   "source": [
    "problems = [(\"HAGER2\", {\"N\": 5000}),  # 1\n",
    "            (\"HAGER3\", {\"N\": 5000}),  # 2\n",
    "            (\"ELEC\", {}),  # 3\n",
    "            (\"CHANNEL\", {}),  # 4\n",
    "            (\"ORTHREGA\", {'LEVELS': 5}),  # 5\n",
    "            (\"ORTHREGC\", {'NPTS': 500}),  # 6\n",
    "            (\"ORTHREGD\", {'NPTS': 2500}),  # 7 - FAILS TO CONVERGE FOR DEFAULT PARAMETERS!!    \n",
    "                                           # BUT CONVERGES FOR: *initial_trust_radius=100,\n",
    "                                           #                    *initial_penalty=1000,\n",
    "            (\"ORTHREGD\", {'NPTS': 500}), # 8\n",
    "            (\"ORTHREGD\", {'NPTS': 5000}), # 9 - FAILS TO CONVERGE FOR DEFAULT PARAMETERS!! \n",
    "                                          # BUT CONVERGES FOR: *initial_trust_radius=100,\n",
    "                                          #                    *initial_penalty=1000,\n",
    "            (\"DTOC1ND\", {'N': 500, 'NX':2, 'NY':4}), # 10 -FAILS TO CONVERGE FOR DEFAULT PARAMETERS!!\n",
    "                                                     # BUT CONVERGES FOR: *initial_trust_radius=1000,\n",
    "                                                     #                    *initial_penalty=1,\n",
    "            (\"DTOC2\", {'N': 500, 'NX':2, 'NY':4}), # 11\n",
    "            (\"DTOC3\", {}), # 12\n",
    "            (\"DTOC4\", {'N': 5000}),  # 13\n",
    "            (\"DTOC5\", {'N': 5000}),  # 14\n",
    "            (\"DTOC6\", {'N': 1001}),  # 15\n",
    "            (\"EIGENA2\", {'N': 50}),  # 16\n",
    "            (\"EIGENA2\", {'N': 10}),  # 17\n",
    "            (\"EIGENC2\", {'M': 25}),  # 18\n",
    "            (\"EIGENC2\", {'M': 2}),  # 19\n",
    "            (\"EIGENC2\", {'M': 10}),  # 20\n",
    "            (\"ARTIF\", {'N': 1000}),  # 21\n",
    "            (\"BRATU3D\", {'P':17})]  # 22\n",
    "\n",
    "number = 7\n",
    "name = problems[number-1][0]\n",
    "cute.clearCache(name)\n",
    "cute.prepareProblem(name, sifParams=problems[number-1][1])\n",
    "problem = cute.importProblem(name)\n",
    "info = problem.getinfo()\n",
    "x0 = info[\"x\"]\n",
    "print(info[\"n\"], info[\"m\"])\n",
    "v0 = info[\"v\"]\n",
    "\n",
    "\n",
    "def hess(x, v):\n",
    "    return csc_matrix(problem.sphess(x, v))\n",
    "\n",
    "\n",
    "def fun(x):\n",
    "    return problem.obj(x)[0]\n",
    "\n",
    "\n",
    "def grad(x):\n",
    "    _, g1 = problem.obj(x, True)\n",
    "    return g1\n",
    "\n",
    "\n",
    "def constr(x):\n",
    "    return problem.cons(x)\n",
    "\n",
    "\n",
    "def jac(x):\n",
    "    _, A1 = problem.cons(x, True)\n",
    "    return csc_matrix(A1)"
   ]
  },
  {
   "cell_type": "markdown",
   "metadata": {
    "run_control": {
     "frozen": false,
     "read_only": false
    }
   },
   "source": [
    "## Optimize Problem"
   ]
  },
  {
   "cell_type": "code",
   "execution_count": 3,
   "metadata": {
    "ExecuteTime": {
     "end_time": "2017-06-28T13:41:12.545655",
     "start_time": "2017-06-28T13:40:44.450382Z"
    },
    "collapsed": false,
    "run_control": {
     "frozen": false,
     "read_only": false
    }
   },
   "outputs": [
    {
     "name": "stdout",
     "output_type": "stream",
     "text": [
      "-0.458429025354 100 0.0 4\n",
      "-1.52497316384 10.9745431961 0.0 4\n",
      "-3.09766780746 3.47717473634 0.0 4\n",
      "1.66752128116 0.67899360386 0.0 4\n",
      "0.899331628441 3.80440726649 0.00551376684038 4\n",
      "0.974448983464 6.08705443378 0.384182359797 4\n",
      "-135.42807214 34.1430777972 4.62311576844 3\n",
      "1.00159731568 3.41430777972 4.62311576844 3\n",
      "0.833596890892 23.9001544581 6.80114525969 4\n",
      "0.91902927421 43.0426329435 11.4204434283 4\n",
      "0.992916785714 57.2078222913 1.07089545491 4\n",
      "0.996681904131 57.2078222913 0.0825432854502 4\n",
      "0.967214792602 57.2078222913 0.0195502790038 4\n",
      "0.917153941107 57.2078222913 0.00412826239682 4\n",
      "0.962868453256 57.2078222913 0.00103080353898 4\n",
      "0.914666589446 57.2078222913 0.000222876223614 4\n",
      "0.962001282375 57.2078222913 5.65801044212e-05 4\n",
      "0.912394399615 57.2078222913 1.23700001519e-05 4\n",
      "0.923679247431 57.2078222913 3.16918062717e-06 4\n",
      "0.535423829757 57.2078222913 6.97634241238e-07 4\n",
      "0.0986997222998 57.2078222913 1.79811057912e-07 4\n",
      "-1.5709921544 57.2078222913 3.97716136023e-08 4\n",
      "-1.5709921544 5.72078222913 3.97716136023e-08 4\n",
      "-1.5709921544 0.572078222913 3.97716136023e-08 4\n",
      "-1.5709921544 0.0572078222913 3.97716136023e-08 4\n",
      "-1.5709921544 0.00572078222913 3.97716136023e-08 4\n",
      "-1.5709921544 0.000572078222913 3.97716136023e-08 4\n",
      "-1.5709921544 5.72078222913e-05 3.97716136023e-08 4\n",
      "-1.5709921544 5.72078222913e-06 3.97716136023e-08 4\n",
      "-1.5709921544 5.72078222913e-07 3.97716136023e-08 4\n",
      "-1.5709921544 5.72078222913e-08 3.97716136023e-08 4\n",
      "-0.201375754226 8.4240052832e-09 3.97716136023e-08 2\n",
      "-0.0196800697909 4.2120026416e-09 3.97716136023e-08 2\n",
      "-1.02901303438 4.2120026416e-09 3.20994558166e-08 2\n",
      "-1.01294578547 2.07588740344e-09 3.20994558166e-08 2\n",
      "-0.979663556627 1.0312684016e-09 3.20994558166e-08 2\n",
      "-1.63436168756 5.15634200798e-10 3.20994558166e-08 2\n",
      "-1.21193309686 1.95734017115e-10 3.20994558166e-08 2\n",
      "-1.56400107815 8.84900250536e-11 3.20994558166e-08 2\n",
      "-1.19401188815 3.4512475413e-11 3.20994558166e-08 2\n",
      "-1.85144675267 1.57303044958e-11 3.20994558166e-08 2\n",
      "-1.42186731862 5.51660462315e-12 3.20994558166e-08 2\n",
      "-1.04993592585 2.27783104614e-12 3.20994558166e-08 2\n",
      "-1.1798867947 1.111171815e-12 3.20994558166e-08 2\n"
     ]
    }
   ],
   "source": [
    "start_time = time.time()\n",
    "x, info = equality_constrained_sqp(fun, grad, hess, constr, jac, x0, v0, \n",
    "                                   initial_trust_radius=100,\n",
    "                                   initial_penalty=1000,\n",
    "                                   return_all=True)\n",
    "total_time = time.time() - start_time"
   ]
  },
  {
   "cell_type": "markdown",
   "metadata": {
    "run_control": {
     "frozen": false,
     "read_only": false
    }
   },
   "source": [
    "## Display Results"
   ]
  },
  {
   "cell_type": "code",
   "execution_count": 4,
   "metadata": {
    "ExecuteTime": {
     "end_time": "2017-06-28T13:41:12.558519",
     "start_time": "2017-06-28T13:41:12.548863Z"
    },
    "collapsed": false,
    "run_control": {
     "frozen": false,
     "read_only": false
    }
   },
   "outputs": [
    {
     "name": "stdout",
     "output_type": "stream",
     "text": [
      "f = 762.064321931\n",
      "optimality = 3.20994558166e-08\n",
      "c violation = 1.28778887747e-12\n",
      "niter = 44\n",
      "total time = 28.0890259743\n"
     ]
    }
   ],
   "source": [
    "print('f = '+ str(info[\"fun\"]))\n",
    "print('optimality = ' + str(info[\"opt\"]))\n",
    "print('c violation = ' + str(info[\"constr_violation\"]))\n",
    "print('niter = ' + str(info[\"niter\"]))\n",
    "print('total time = ' + str(total_time))\n"
   ]
  },
  {
   "cell_type": "code",
   "execution_count": 5,
   "metadata": {
    "ExecuteTime": {
     "end_time": "2017-06-28T13:41:27.712718",
     "start_time": "2017-06-28T13:41:12.561801Z"
    },
    "collapsed": false,
    "run_control": {
     "frozen": false,
     "read_only": false
    }
   },
   "outputs": [],
   "source": [
    "n = len(info[\"allvecs\"])\n",
    "func = np.zeros(n)\n",
    "constr_violation = np.zeros(n)\n",
    "optimality = np.zeros(n)\n",
    "for k in range(n):\n",
    "    xk = info[\"allvecs\"][k]\n",
    "    vk = info[\"allmult\"][k]\n",
    "    gk = grad(xk)\n",
    "    ck = constr(xk)\n",
    "    Ak = jac(xk)\n",
    "    func[k] = fun(xk)\n",
    "    optimality[k] = norm(gk + Ak.T.dot(vk))\n",
    "    constr_violation[k] = np.linalg.norm(ck)"
   ]
  },
  {
   "cell_type": "code",
   "execution_count": 6,
   "metadata": {
    "ExecuteTime": {
     "end_time": "2017-06-28T13:41:29.882865",
     "start_time": "2017-06-28T13:41:27.716461Z"
    },
    "collapsed": false,
    "run_control": {
     "frozen": false,
     "read_only": false
    }
   },
   "outputs": [
    {
     "data": {
      "image/png": "[encoded data removed]",
      "text/plain": [
       "<matplotlib.figure.Figure at 0x10a0de410>"
      ]
     },
     "metadata": {},
     "output_type": "display_data"
    }
   ],
   "source": [
    "plt.figure(figsize=(10, 10))\n",
    "plt.semilogy(range(n), optimality, color='black', lw=3)\n",
    "plt.xlabel(\"iteration\", fontsize=30)\n",
    "plt.ylabel(r\"$\\||\\nabla \\mathcal{L}(x, \\lambda)\\||$\", fontsize=30)\n",
    "plt.tick_params(axis='both', which='both', labelsize=20)\n",
    "plt.tight_layout()\n",
    "plt.savefig(\"optimality_elec_soc.png\")"
   ]
  },
  {
   "cell_type": "code",
   "execution_count": null,
   "metadata": {
    "collapsed": true,
    "run_control": {
     "frozen": false,
     "read_only": false
    }
   },
   "outputs": [],
   "source": []
  }
 ],
 "metadata": {
  "hide_input": false,
  "kernelspec": {
   "display_name": "cutest",
   "language": "python",
   "name": "cutest"
  },
  "language_info": {
   "codemirror_mode": {
    "name": "ipython",
    "version": 2
   },
   "file_extension": ".py",
   "mimetype": "text/x-python",
   "name": "python",
   "nbconvert_exporter": "python",
   "pygments_lexer": "ipython2",
   "version": "2.7.11"
  },
  "latex_envs": {
   "bibliofile": "biblio.bib",
   "cite_by": "apalike",
   "current_citInitial": 1,
   "eqLabelWithNumbers": true,
   "eqNumInitial": 0
  },
  "toc": {
   "nav_menu": {
    "height": "30px",
    "width": "252px"
   },
   "navigate_menu": true,
   "number_sections": true,
   "sideBar": true,
   "threshold": 4,
   "toc_cell": false,
   "toc_position": {
    "height": "913px",
    "left": "0px",
    "right": "auto",
    "top": "106px",
    "width": "212px"
   },
   "toc_section_display": "block",
   "toc_window_display": true
  },
  "widgets": {
   "state": {},
   "version": "1.1.2"
  }
 },
 "nbformat": 4,
 "nbformat_minor": 2
}
