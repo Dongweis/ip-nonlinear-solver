{
 "cells": [
  {
   "cell_type": "code",
   "execution_count": 1,
   "metadata": {
    "ExecuteTime": {
     "end_time": "2017-07-24T18:39:37.371079",
     "start_time": "2017-07-24T18:39:36.831343Z"
    },
    "collapsed": true,
    "run_control": {
     "frozen": false,
     "read_only": false
    }
   },
   "outputs": [],
   "source": [
    "import pycutestmgr as cute\n",
    "import time\n",
    "import pdb \n",
    "import numpy as np\n",
    "from numpy.linalg import norm\n",
    "import matplotlib.pyplot as plt\n",
    "import scipy.sparse as spc\n",
    "from ipsolver import parse_cutest_like_problem, ipsolver, parse_matlab_like_problem, check_derivative\n",
    "cute.clearCache('HS71')"
   ]
  },
  {
   "cell_type": "markdown",
   "metadata": {},
   "source": [
    "# Import Problem"
   ]
  },
  {
   "cell_type": "code",
   "execution_count": 2,
   "metadata": {
    "collapsed": true
   },
   "outputs": [],
   "source": [
    "problems = [(\"CORKSCRW\", {\"T\": 50}),  # 1\n",
    "            (\"COSHFUN\", {\"M\": 20}),  # 2 --- many iteractions\n",
    "            (\"DIXCHLNV\", {\"N\":100}), # 3\n",
    "            (\"HAGER4\", {\"N\": 1000}), # 4\n",
    "            (\"HIMMELBK\", {}), # 5\n",
    "            (\"NGONE\", {\"HNS\": 49}), # 6 --- many iteractions\n",
    "            (\"OPTCNTRL\", {}), # 7\n",
    "            (\"OPTMASS\", {\"N\": 200}),  # 8 --- OPT 4.6e-4\n",
    "            (\"ORTHREGF\", {\"NPTS\": 20}),  # 9\n",
    "            (\"SVANBERG\", {\"N\": 500}),  # 10\n",
    "            (\"READING1\", {\"N\": 100}), # 11  --- Fails !!! Warning --- Take a look\n",
    "            (\"HS7\", {}), # 12\n",
    "            (\"HS10\", {}), # 13\n",
    "            (\"HS11\", {}), # 14\n",
    "            (\"HS13\", {}), # 15\n",
    "            (\"HS14\", {}), # 16\n",
    "            (\"HS16\", {}), # 17\n",
    "            (\"HS17\", {}), # 18\n",
    "            (\"HS19\", {}), # 19\n",
    "            (\"HS20\", {}), # 20\n",
    "            (\"HS22\", {}), # 21\n",
    "            (\"HS24\", {}), # 22\n",
    "            (\"HS26\", {}), # 23\n",
    "            (\"HS28\", {}), # 24\n",
    "            (\"HS31\", {}), # 25\n",
    "            (\"HS32\", {}), # 26\n",
    "            (\"HS33\", {}), # 27\n",
    "            (\"HS39\", {}), # 28\n",
    "            (\"HS46\", {}), # 29\n",
    "            (\"HS51\", {}), # 30\n",
    "            (\"HS52\", {}), # 31\n",
    "            (\"HS53\", {}), # 32\n",
    "            (\"HS63\", {}), # 33\n",
    "            (\"HS64\", {}), # 34\n",
    "            (\"HS65\", {}), # 35\n",
    "            (\"HS70\", {}), # 36\n",
    "            (\"HS71\", {}), # 37\n",
    "            (\"HS72\", {}), # 38\n",
    "            (\"HS73\", {}), # 39\n",
    "            (\"HS74\", {}), # 40\n",
    "            (\"HS75\", {}), # 41\n",
    "            (\"HS77\", {}), # 42\n",
    "            (\"HS78\", {}), # 43\n",
    "            (\"HS79\", {}), # 44\n",
    "            (\"HS80\", {}), # 45\n",
    "            (\"HS81\", {}), # 46\n",
    "            (\"HS83\", {}), # 47\n",
    "            (\"HS84\", {}), # 48\n",
    "            (\"HS85\", {}), # 49 --- Fails!\n",
    "            (\"HS86\", {}), # 50\n",
    "            (\"HS93\", {}), # 51\n",
    "            (\"HS95\", {}), # 52\n",
    "            (\"HS96\", {}), # 53\n",
    "            (\"HS97\", {}), # 54 --- Fails!\n",
    "            (\"HS98\", {}), # 55 --- Fails!\n",
    "            (\"HS99\", {}), # 56 --- Fails!\n",
    "            (\"HS100\", {}), # 57\n",
    "            (\"HS104\", {}), # 58\n",
    "            (\"HS106\", {}), # 60\n",
    "            (\"HS107\", {}), # 61\n",
    "            (\"HS108\", {}), # 62\n",
    "            (\"HS109\", {}), # 63  --- Fails! Singular factor --- Take a look!!\n",
    "            (\"HS111\", {}), # 64\n",
    "            (\"HS112\", {}), # 65\n",
    "            (\"HS113\", {}), # 66\n",
    "            (\"HS114\", {}), # 67\n",
    "            (\"HS116\", {}), # 68\n",
    "            (\"HS117\", {}), # 69 \n",
    "            (\"HS118\", {}), # 70\n",
    "            (\"HS119\", {}), # 71 \n",
    "            ]"
   ]
  },
  {
   "cell_type": "code",
   "execution_count": 3,
   "metadata": {
    "ExecuteTime": {
     "end_time": "2017-07-24T18:39:38.499568",
     "start_time": "2017-07-24T18:39:37.375814Z"
    }
   },
   "outputs": [
    {
     "name": "stdout",
     "output_type": "stream",
     "text": [
      "(1210, 1005)\n"
     ]
    }
   ],
   "source": [
    "number = 8\n",
    "name = problems[number-1][0]\n",
    "cute.clearCache(name)\n",
    "cute.prepareProblem(name, sifParams=problems[number-1][1])\n",
    "problem = cute.importProblem(name)\n",
    "info = problem.getinfo()\n",
    "x0 = info[\"x\"]\n",
    "n = info[\"n\"]\n",
    "m = info[\"m\"]\n",
    "print(n, m)\n",
    "v0 = info[\"v\"]\n",
    "eq_list = info[\"equatn\"]\n",
    "\n",
    "def convert_to_inf(bounds):\n",
    "    new_bounds = np.zeros_like(bounds)\n",
    "    i = 0\n",
    "    for b in bounds:\n",
    "        if b >= 1e20:\n",
    "            new_bounds[i] = np.inf\n",
    "        elif b <= -1e20:\n",
    "            new_bounds[i] = -np.inf\n",
    "        else:\n",
    "            new_bounds[i] = b\n",
    "        i += 1\n",
    "    return new_bounds\n",
    "\n",
    "# Define upper and lower bound\n",
    "c_lb = convert_to_inf(info[\"cl\"])\n",
    "c_ub = convert_to_inf(info[\"cu\"])\n",
    "lb = convert_to_inf(info[\"bl\"])\n",
    "ub = convert_to_inf(info[\"bu\"])\n",
    "\n",
    "# Define function and constraints\n",
    "def fun(x):\n",
    "    return problem.obj(x)[0]\n",
    "\n",
    "def grad(x):\n",
    "    _, g1 = problem.obj(x, True)\n",
    "    return g1\n",
    "\n",
    "def lagr_hess(x, v):\n",
    "    def matvec(p):\n",
    "        return problem.hprod(p, x, v)\n",
    "    return spc.linalg.LinearOperator((n, n), matvec=matvec)\n",
    "\n",
    "\n",
    "def constr(x):\n",
    "    return problem.cons(x)\n",
    "\n",
    "def jac(x):\n",
    "    _, A1 = problem.cons(x, True)\n",
    "    return spc.csc_matrix(A1)\n",
    "\n",
    "# Make initial point feasible\n",
    "if number == 59:\n",
    "    x0[2] = x0[2] + 6\n",
    "    x0[3] = x0[3] + 6\n",
    "\n",
    "# Parse constraints\n",
    "fun, grad, new_lagr_hess, n_total_ineq, constr_ineq, \\\n",
    "    jac_ineq, n_total_eq, constr_eq, jac_eq, box_constraints \\\n",
    "        = parse_cutest_like_problem(\n",
    "            fun, grad, lagr_hess, n, constr, jac,\n",
    "            c_lb, c_ub, lb, ub)\n",
    "        \n",
    "# Remove box contraints\n",
    "if number not in (59, 65):\n",
    "       box_constraints.fill(0)"
   ]
  },
  {
   "cell_type": "markdown",
   "metadata": {},
   "source": [
    "# Optimize Problem"
   ]
  },
  {
   "cell_type": "code",
   "execution_count": 4,
   "metadata": {
    "ExecuteTime": {
     "end_time": "2017-07-24T18:39:55.375869",
     "start_time": "2017-07-24T18:39:38.504554Z"
    }
   },
   "outputs": [],
   "source": [
    "x, info = ipsolver(fun, grad, new_lagr_hess, n_total_ineq, constr_ineq,\n",
    "                jac_ineq, n_total_eq, constr_eq, jac_eq, x0, box_constraints)"
   ]
  },
  {
   "cell_type": "markdown",
   "metadata": {
    "ExecuteTime": {
     "end_time": "2017-07-24T14:31:22.269116",
     "start_time": "2017-07-24T14:31:22.178155Z"
    }
   },
   "source": [
    "# Display Results"
   ]
  },
  {
   "cell_type": "code",
   "execution_count": 5,
   "metadata": {
    "ExecuteTime": {
     "end_time": "2017-07-24T18:39:55.389209",
     "start_time": "2017-07-24T18:39:55.379058Z"
    }
   },
   "outputs": [
    {
     "name": "stdout",
     "output_type": "stream",
     "text": [
      "f = -0.0327169023548\n",
      "optimality = 0.000520989535076\n",
      "c violation = 2.20472516866e-06\n",
      "niter = 1139\n"
     ]
    }
   ],
   "source": [
    "print('f = '+ str(info[\"fun\"]))\n",
    "print('optimality = ' + str(info[\"opt\"]))\n",
    "print('c violation = ' + str(info[\"constr_violation\"]))\n",
    "print('niter = ' + str(info[\"niter\"]))\n",
    "#print('total time = ' + str(total_time))"
   ]
  },
  {
   "cell_type": "code",
   "execution_count": null,
   "metadata": {
    "collapsed": true
   },
   "outputs": [],
   "source": []
  }
 ],
 "metadata": {
  "hide_input": false,
  "kernelspec": {
   "display_name": "cutest",
   "language": "python",
   "name": "cutest"
  },
  "language_info": {
   "codemirror_mode": {
    "name": "ipython",
    "version": 2
   },
   "file_extension": ".py",
   "mimetype": "text/x-python",
   "name": "python",
   "nbconvert_exporter": "python",
   "pygments_lexer": "ipython2",
   "version": "2.7.13"
  },
  "latex_envs": {
   "bibliofile": "biblio.bib",
   "cite_by": "apalike",
   "current_citInitial": 1,
   "eqLabelWithNumbers": true,
   "eqNumInitial": 0
  },
  "toc": {
   "nav_menu": {
    "height": "66px",
    "width": "252px"
   },
   "navigate_menu": true,
   "number_sections": true,
   "sideBar": true,
   "threshold": 4,
   "toc_cell": false,
   "toc_position": {
    "height": "913px",
    "left": "0px",
    "right": "auto",
    "top": "106px",
    "width": "322px"
   },
   "toc_section_display": "block",
   "toc_window_display": true
  },
  "widgets": {
   "state": {},
   "version": "1.1.2"
  }
 },
 "nbformat": 4,
 "nbformat_minor": 1
}
