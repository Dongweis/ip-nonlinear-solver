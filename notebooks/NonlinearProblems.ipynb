{
 "cells": [
  {
   "cell_type": "code",
   "execution_count": 1,
   "metadata": {
    "ExecuteTime": {
     "end_time": "2017-07-24T18:39:37.371079",
     "start_time": "2017-07-24T18:39:36.831343Z"
    },
    "collapsed": true,
    "run_control": {
     "frozen": false,
     "read_only": false
    }
   },
   "outputs": [],
   "source": [
    "import pycutestmgr as cute\n",
    "import time\n",
    "import pdb \n",
    "import numpy as np\n",
    "from numpy.linalg import norm\n",
    "import matplotlib.pyplot as plt\n",
    "import scipy.sparse as spc\n",
    "from ipsolver import parse_cutest_like_problem, ipsolver, parse_matlab_like_problem, check_derivative\n",
    "cute.clearCache('HS71')"
   ]
  },
  {
   "cell_type": "markdown",
   "metadata": {},
   "source": [
    "# Import Problem"
   ]
  },
  {
   "cell_type": "code",
   "execution_count": 2,
   "metadata": {
    "collapsed": true
   },
   "outputs": [],
   "source": [
    "problems = [(\"CORKSCRW\", {\"T\": 50}),  # 1\n",
    "            (\"COSHFUN\", {\"M\": 20}),  # 2 --- many iteractions\n",
    "            (\"DIXCHLNV\", {\"N\":100}), # 3\n",
    "            (\"HAGER4\", {\"N\": 1000}), # 4\n",
    "            (\"HIMMELBK\", {}), # 5\n",
    "            (\"NGONE\", {\"HNS\": 49}), # 6 --- many iteractions\n",
    "            (\"OPTCNTRL\", {}), # 7\n",
    "            (\"OPTMASS\", {\"N\": 200}),  # 8 --- OPT 4.6e-4\n",
    "            (\"ORTHREGF\", {\"NPTS\": 20}),  # 9\n",
    "            (\"SVANBERG\", {\"N\": 500}),  # 10\n",
    "            (\"READING1\", {\"N\": 100}), # 11  --- Fails !!! Warning --- Take a look\n",
    "            (\"HS7\", {}), # 12\n",
    "            (\"HS10\", {}), # 13\n",
    "            (\"HS11\", {}), # 14\n",
    "            (\"HS13\", {}), # 15\n",
    "            (\"HS14\", {}), # 16\n",
    "            (\"HS16\", {}), # 17\n",
    "            (\"HS17\", {}), # 18\n",
    "            (\"HS19\", {}), # 19\n",
    "            (\"HS20\", {}), # 20\n",
    "            (\"HS22\", {}), # 21\n",
    "            (\"HS24\", {}), # 22\n",
    "            (\"HS26\", {}), # 23\n",
    "            (\"HS28\", {}), # 24\n",
    "            (\"HS31\", {}), # 25\n",
    "            (\"HS32\", {}), # 26\n",
    "            (\"HS33\", {}), # 27\n",
    "            (\"HS39\", {}), # 28\n",
    "            (\"HS46\", {}), # 29\n",
    "            (\"HS51\", {}), # 30\n",
    "            (\"HS52\", {}), # 31\n",
    "            (\"HS53\", {}), # 32\n",
    "            (\"HS63\", {}), # 33\n",
    "            (\"HS64\", {}), # 34\n",
    "            (\"HS65\", {}), # 35\n",
    "            (\"HS70\", {}), # 36\n",
    "            (\"HS71\", {}), # 37\n",
    "            (\"HS72\", {}), # 38\n",
    "            (\"HS73\", {}), # 39\n",
    "            (\"HS74\", {}), # 40\n",
    "            (\"HS75\", {}), # 41\n",
    "            (\"HS77\", {}), # 42\n",
    "            (\"HS78\", {}), # 43\n",
    "            (\"HS79\", {}), # 44\n",
    "            (\"HS80\", {}), # 45\n",
    "            (\"HS81\", {}), # 46\n",
    "            (\"HS83\", {}), # 47\n",
    "            (\"HS84\", {}), # 48\n",
    "            (\"HS85\", {}), # 49 --- Fails!\n",
    "            (\"HS86\", {}), # 50\n",
    "            (\"HS93\", {}), # 51\n",
    "            (\"HS95\", {}), # 52\n",
    "            (\"HS96\", {}), # 53\n",
    "            (\"HS97\", {}), # 54 --- Fails!\n",
    "            (\"HS98\", {}), # 55 --- Fails!\n",
    "            (\"HS99\", {}), # 56 --- Fails!\n",
    "            (\"HS100\", {}), # 57\n",
    "            (\"HS104\", {}), # 58\n",
    "            (\"HS105\", {}), # 59 --- Fails! nan -- Take a look!!\n",
    "            (\"HS106\", {}), # 60\n",
    "            (\"HS107\", {}), # 61\n",
    "            (\"HS108\", {}), # 62\n",
    "            (\"HS109\", {}), # 63  --- Fails! Singular factor --- Take a look!!\n",
    "            (\"HS111\", {}), # 64\n",
    "            (\"HS112\", {}), # 65  --- Fails! nan  --- Take a look!\n",
    "            (\"HS113\", {}), # 66\n",
    "            (\"HS114\", {}), # 67\n",
    "            (\"HS116\", {}), # 68  --- Doesn't Fails! nan  --- Take a look!\n",
    "            (\"HS117\", {}), # 69 \n",
    "            (\"HS118\", {}), # 70\n",
    "            (\"HS119\", {}), # 71  --- Doesn't Fails! nan  --- Take a look!\n",
    "            ]"
   ]
  },
  {
   "cell_type": "code",
   "execution_count": 3,
   "metadata": {
    "ExecuteTime": {
     "end_time": "2017-07-24T18:39:38.499568",
     "start_time": "2017-07-24T18:39:37.375814Z"
    }
   },
   "outputs": [
    {
     "name": "stdout",
     "output_type": "stream",
     "text": [
      "(16, 8)\n"
     ]
    }
   ],
   "source": [
    "number = 71\n",
    "name = problems[number-1][0]\n",
    "cute.clearCache(name)\n",
    "cute.prepareProblem(name, sifParams=problems[number-1][1])\n",
    "problem = cute.importProblem(name)\n",
    "info = problem.getinfo()\n",
    "x0 = info[\"x\"]\n",
    "n = info[\"n\"]\n",
    "m = info[\"m\"]\n",
    "print(n, m)\n",
    "v0 = info[\"v\"]\n",
    "eq_list = info[\"equatn\"]\n",
    "\n",
    "def convert_to_inf(bounds):\n",
    "    new_bounds = np.zeros_like(bounds)\n",
    "    i = 0\n",
    "    for b in bounds:\n",
    "        if b >= 1e20:\n",
    "            new_bounds[i] = np.inf\n",
    "        elif b <= -1e20:\n",
    "            new_bounds[i] = -np.inf\n",
    "        else:\n",
    "            new_bounds[i] = b\n",
    "        i += 1\n",
    "    return new_bounds\n",
    "\n",
    "# Define upper and lower bound\n",
    "c_lb = convert_to_inf(info[\"cl\"])\n",
    "c_ub = convert_to_inf(info[\"cu\"])\n",
    "lb = convert_to_inf(info[\"bl\"])\n",
    "ub = convert_to_inf(info[\"bu\"])\n",
    "\n",
    "# Define function and constraints\n",
    "def fun(x):\n",
    "    return problem.obj(x)[0]\n",
    "\n",
    "def grad(x):\n",
    "    _, g1 = problem.obj(x, True)\n",
    "    return g1\n",
    "\n",
    "def lagr_hess(x, v):\n",
    "    def matvec(p):\n",
    "        return problem.hprod(p, x, v)\n",
    "    return spc.linalg.LinearOperator((n, n), matvec=matvec)\n",
    "\n",
    "\n",
    "def constr(x):\n",
    "    return problem.cons(x)\n",
    "\n",
    "def jac(x):\n",
    "    _, A1 = problem.cons(x, True)\n",
    "    return spc.csc_matrix(A1)\n",
    "\n",
    "# Parse constraints\n",
    "fun, grad, new_lagr_hess, n_total_ineq, constr_ineq, \\\n",
    "    jac_ineq, n_total_eq, constr_eq, jac_eq \\\n",
    "        = parse_cutest_like_problem(\n",
    "            fun, grad, lagr_hess, n, constr, jac,\n",
    "            c_lb, c_ub, lb, ub)"
   ]
  },
  {
   "cell_type": "markdown",
   "metadata": {},
   "source": [
    "# Optimize Problem"
   ]
  },
  {
   "cell_type": "code",
   "execution_count": 4,
   "metadata": {
    "ExecuteTime": {
     "end_time": "2017-07-24T18:39:55.375869",
     "start_time": "2017-07-24T18:39:38.504554Z"
    }
   },
   "outputs": [
    {
     "name": "stdout",
     "output_type": "stream",
     "text": [
      "0 1.0 1.0 1.00350916828 41230.0555302\n",
      "1 7.0 1.0 1.07472813237 207369.135895\n",
      "2 49.0 1.0 3.76458089422 76136.1097532\n",
      "3 152.969278313 1.0 1.22989601404 9927.30339239\n",
      "4 152.969278313 1.0 1.13010567811 2250.32031417\n",
      "5 152.969278313 1.0 1.08639689722 577.028383039\n",
      "6 152.969278313 1.0 1.04008848193 203.927779687\n",
      "7 152.969278313 1.0 1.17302876601 88.3361714803\n",
      "8 152.969278313 1.0 1.09129256496 21.7992485008\n",
      "9 152.969278313 1.0 1.28232108748 2.99650786958\n",
      "10 152.969278313 1.0 1.03237676079 1.14425819003\n",
      "11 152.969278313 1.0 0.620090247884 0.163113077805\n",
      "====> 0.019331277822 7.84060553384e-15 0.1 0.1 12\n",
      "0 764.846391566 1.0 1.47497404601 0.174822473866\n",
      "====> 0.0165538468151 3.64825916673e-15 0.02 0.02 1\n",
      "0 3824.23195783 1.0 1.33195698763 0.034745992248\n",
      "1 3824.23195783 1.0 0.410358453268 0.0193115595571\n",
      "====> 0.000707748328579 1.49077891623e-14 0.004 0.004 2\n",
      "0 19121.1597892 1.0 1.47560467075 0.00630724986071\n",
      "====> 0.00051071389881 2.60682141937e-15 0.0008 0.0008 1\n",
      "0 95605.7989458 1.0 1.19032926339 0.00121245237777\n",
      "1 95605.7989458 1.0 1.00200724611 4.84832421631e-05\n",
      "2 95605.7989458 1.0 0.252682525487 0.00214299435106\n",
      "3 95605.7989458 1.0 0.999977625095 9.91061603209e-09\n",
      "====> 6.51258828697e-06 2.09112236827e-15 0.00016 0.00016 4\n",
      "0 478028.994729 1.0 1.49390177549 0.000256015018364\n",
      "====> 1.8656728769e-06 1.96496773491e-15 3.2e-05 3.2e-05 1\n",
      "0 2390144.97364 1.0 1.4918273015 5.11859270026e-05\n",
      "====> 1.49303038788e-06 2.70724915561e-15 6.4e-06 6.4e-06 1\n",
      "0 11950724.8682 1.0 1.45382646675 1.01992330528e-05\n",
      "====> 1.11403182899e-06 2.0642578672e-15 1.28e-06 1.28e-06 1\n",
      "0 59753624.3411 1.0 1.21604339423 2.10483563537e-06\n",
      "1 59753624.3411 1.0 0.999919509001 2.00730268977e-10\n",
      "2 59753624.3411 1.0 -0.225536624629 1.35953830123e-06\n",
      "3 5975362.43411 1.0 -0.225536624629 1.35953830123e-06\n",
      "4 597536.243411 1.0 -0.225536624629 1.35953830123e-06\n",
      "5 59753.6243411 1.0 -0.225536624629 1.35953830123e-06\n",
      "6 5975.36243411 1.0 -0.225536624629 1.35953830123e-06\n",
      "7 597.536243411 1.0 -0.225536624629 1.35953830123e-06\n",
      "8 59.7536243411 1.0 -0.225536624629 1.35953830123e-06\n",
      "9 5.97536243411 1.0 nan nan\n",
      "10 5.97536243411 1.0 nan nan\n",
      "11 5.97536243411 1.0 1.20351277056 2.36156276242e-14\n",
      "12 5.97536243411 1.0 -0.22553525175 1.35953964598e-06\n",
      "13 2.98768121706 1.0 0.643823818003 8.47944898759e-07\n",
      "14 5.97536243411 1.0 0.471937214451 6.74287024547e-07\n",
      "====> 6.35763669967e-08 9.13214143349e-12 2.56e-07 2.56e-07 15\n"
     ]
    },
    {
     "name": "stderr",
     "output_type": "stream",
     "text": [
      "/home/antonio/Dropbox/My Projects/ip-nonlinear-solver/ipsolver/ipsolver.py:79: RuntimeWarning: invalid value encountered in add\n",
      "  self.constr_ineq(x) + s))\n"
     ]
    }
   ],
   "source": [
    "start_time = time.time()\n",
    "x, info = ipsolver(fun, grad, new_lagr_hess, n_total_ineq, constr_ineq,\n",
    "                jac_ineq, n_total_eq, constr_eq, jac_eq, x0)\n",
    "total_time = time.time() - start_time"
   ]
  },
  {
   "cell_type": "markdown",
   "metadata": {
    "ExecuteTime": {
     "end_time": "2017-07-24T14:31:22.269116",
     "start_time": "2017-07-24T14:31:22.178155Z"
    }
   },
   "source": [
    "# Display Results"
   ]
  },
  {
   "cell_type": "code",
   "execution_count": 6,
   "metadata": {
    "ExecuteTime": {
     "end_time": "2017-07-24T18:39:55.389209",
     "start_time": "2017-07-24T18:39:55.379058Z"
    }
   },
   "outputs": [
    {
     "name": "stdout",
     "output_type": "stream",
     "text": [
      "f = 244.899718266\n",
      "optimality = 6.35763669967e-08\n",
      "c violation = 9.13214143349e-12\n",
      "niter = 38\n",
      "total time = 0.232614040375\n"
     ]
    }
   ],
   "source": [
    "print('f = '+ str(info[\"fun\"]))\n",
    "print('optimality = ' + str(info[\"opt\"]))\n",
    "print('c violation = ' + str(info[\"constr_violation\"]))\n",
    "print('niter = ' + str(info[\"niter\"]))\n",
    "print('total time = ' + str(total_time))"
   ]
  },
  {
   "cell_type": "code",
   "execution_count": null,
   "metadata": {
    "collapsed": true
   },
   "outputs": [],
   "source": []
  }
 ],
 "metadata": {
  "hide_input": false,
  "kernelspec": {
   "display_name": "cutest",
   "language": "python",
   "name": "cutest"
  },
  "language_info": {
   "codemirror_mode": {
    "name": "ipython",
    "version": 2
   },
   "file_extension": ".py",
   "mimetype": "text/x-python",
   "name": "python",
   "nbconvert_exporter": "python",
   "pygments_lexer": "ipython2",
   "version": "2.7.13"
  },
  "latex_envs": {
   "bibliofile": "biblio.bib",
   "cite_by": "apalike",
   "current_citInitial": 1,
   "eqLabelWithNumbers": true,
   "eqNumInitial": 0
  },
  "toc": {
   "nav_menu": {
    "height": "66px",
    "width": "252px"
   },
   "navigate_menu": true,
   "number_sections": true,
   "sideBar": true,
   "threshold": 4,
   "toc_cell": false,
   "toc_position": {
    "height": "913px",
    "left": "0px",
    "right": "auto",
    "top": "106px",
    "width": "322px"
   },
   "toc_section_display": "block",
   "toc_window_display": true
  },
  "widgets": {
   "state": {},
   "version": "1.1.2"
  }
 },
 "nbformat": 4,
 "nbformat_minor": 1
}
